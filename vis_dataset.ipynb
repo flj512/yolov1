{
 "cells": [
  {
   "cell_type": "code",
   "execution_count": null,
   "metadata": {},
   "outputs": [],
   "source": [
    "from data.voc_dataset import VOCDataset\n",
    "import torchvision.transforms as transforms\n",
    "from PIL import ImageDraw, ImageFont\n",
    "import torch\n",
    "from config import PASCAL_VOC_CLASSES\n",
    "\n",
    "datset = VOCDataset(root_dir='dataset/VOCdevkit', mode='train',transform=transforms.Compose([]))\n",
    "print(len(datset))"
   ]
  },
  {
   "cell_type": "code",
   "execution_count": null,
   "metadata": {},
   "outputs": [],
   "source": [
    "def show_annotion(idx):\n",
    "    image, target = datset[idx]\n",
    "    print(f'image {idx} size {image.width}x{image.height}, target.shape {target.shape}')\n",
    "\n",
    "    draw = ImageDraw.Draw(image)\n",
    "    font = ImageFont.load_default()\n",
    "\n",
    "    Y_GRID = target.shape[0]\n",
    "    X_GRID = target.shape[1]\n",
    "\n",
    "    for j in range(Y_GRID):\n",
    "        for i in range(X_GRID):\n",
    "            if target[j,i,4] == 1:\n",
    "                bx, by, bw, bh = target[j,i,0:4]\n",
    "\n",
    "                obj_class = torch.argmax(target[j,i,5:]).item()\n",
    "                x_center = (bx + i) * image.width / X_GRID\n",
    "                y_center = (by + j) * image.height / Y_GRID\n",
    "                w = bw*image.width\n",
    "                h = bh*image.height\n",
    "                print(f\"[{j},{i}] {PASCAL_VOC_CLASSES[obj_class]}, pos: ({x_center}, {y_center}), size: ({w}, {h})\")\n",
    "                draw.rectangle((x_center - w/2, y_center - h/2, x_center + w/2, y_center + h/2), outline='red')\n",
    "                draw.text((x_center - w/2, y_center - h/2), PASCAL_VOC_CLASSES[obj_class], font=font, fill=\"red\")\n",
    "    image.show()"
   ]
  },
  {
   "cell_type": "code",
   "execution_count": null,
   "metadata": {},
   "outputs": [],
   "source": [
    "for i in range(0,10):\n",
    "    show_annotion(i)"
   ]
  }
 ],
 "metadata": {
  "kernelspec": {
   "display_name": ".venv",
   "language": "python",
   "name": "python3"
  },
  "language_info": {
   "codemirror_mode": {
    "name": "ipython",
    "version": 3
   },
   "file_extension": ".py",
   "mimetype": "text/x-python",
   "name": "python",
   "nbconvert_exporter": "python",
   "pygments_lexer": "ipython3",
   "version": "3.10.12"
  }
 },
 "nbformat": 4,
 "nbformat_minor": 2
}
