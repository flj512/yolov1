{
 "cells": [
  {
   "cell_type": "code",
   "execution_count": null,
   "metadata": {},
   "outputs": [],
   "source": [
    "from data.voc_dataset import VOCDataset\n",
    "import torchvision.transforms as transforms\n",
    "from inference import YOLOPredictor\n",
    "import cv2\n",
    "from PIL import Image\n",
    "\n",
    "datset = VOCDataset(root_dir='dataset/VOCdevkit', mode='val0',transform=transforms.Compose([]))\n",
    "print(len(datset))\n",
    "# Initialize predictor\n",
    "predictor = YOLOPredictor(\n",
    "    checkpoint_path=\"checkpoint_epoch_110.pth\",\n",
    "    conf_threshold=0.4,\n",
    "    nms_threshold=0.4\n",
    ")"
   ]
  },
  {
   "cell_type": "code",
   "execution_count": null,
   "metadata": {},
   "outputs": [],
   "source": [
    "import time\n",
    "\n",
    "start = time.time()\n",
    "start_idx  = 0\n",
    "end_idx = 50\n",
    "total_images = end_idx-start_idx\n",
    "for i in range(start_idx,end_idx):\n",
    "    image, _ = datset[i]\n",
    "    result_img, boxes = predictor.predict_image(image, save_path=None)\n",
    "    img = Image.fromarray(cv2.cvtColor(result_img, cv2.COLOR_BGR2RGB))\n",
    "    img.show()\n",
    "end = time.time()\n",
    "print(f\"Average time taken for {total_images} images: {(end-start)*1000/total_images:0.3f} milliseconds\")"
   ]
  }
 ],
 "metadata": {
  "kernelspec": {
   "display_name": "Python 3",
   "language": "python",
   "name": "python3"
  },
  "language_info": {
   "codemirror_mode": {
    "name": "ipython",
    "version": 3
   },
   "file_extension": ".py",
   "mimetype": "text/x-python",
   "name": "python",
   "nbconvert_exporter": "python",
   "pygments_lexer": "ipython3",
   "version": "3.10.12"
  }
 },
 "nbformat": 4,
 "nbformat_minor": 2
}
