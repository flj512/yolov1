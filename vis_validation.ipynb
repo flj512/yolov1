{
 "cells": [
  {
   "cell_type": "code",
   "execution_count": null,
   "metadata": {},
   "outputs": [],
   "source": [
    "from data.voc_dataset import VOCDataset\n",
    "import torchvision.transforms as transforms\n",
    "from inference import YOLOPredictor\n",
    "import cv2\n",
    "from PIL import Image\n",
    "\n",
    "datset = VOCDataset(root_dir='dataset/VOCdevkit', mode='val0',transform=transforms.Compose([]))\n",
    "print(len(datset))\n",
    "# Initialize predictor\n",
    "predictor = YOLOPredictor(\n",
    "    checkpoint_path=\"checkpoint_epoch_70.pth\",\n",
    "    conf_threshold=0.4,\n",
    "    nms_threshold=0.4\n",
    ")"
   ]
  },
  {
   "cell_type": "code",
   "execution_count": null,
   "metadata": {},
   "outputs": [],
   "source": [
    "for i in range(100,150):\n",
    "    image, _ = datset[i]\n",
    "    result_img, boxes = predictor.predict_image(image, save_path=None)\n",
    "    img = Image.fromarray(cv2.cvtColor(result_img, cv2.COLOR_BGR2RGB))\n",
    "    img.show()"
   ]
  }
 ],
 "metadata": {
  "kernelspec": {
   "display_name": "Python 3",
   "language": "python",
   "name": "python3"
  },
  "language_info": {
   "codemirror_mode": {
    "name": "ipython",
    "version": 3
   },
   "file_extension": ".py",
   "mimetype": "text/x-python",
   "name": "python",
   "nbconvert_exporter": "python",
   "pygments_lexer": "ipython3",
   "version": "3.10.12"
  }
 },
 "nbformat": 4,
 "nbformat_minor": 2
}
